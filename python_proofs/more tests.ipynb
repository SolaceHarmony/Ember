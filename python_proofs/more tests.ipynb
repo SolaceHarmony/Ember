{
 "cells": [
  {
   "cell_type": "code",
   "execution_count": 1,
   "metadata": {},
   "outputs": [
    {
     "name": "stdout",
     "output_type": "stream",
     "text": [
      "Approximate S: 2.4087769536840972e+41\n"
     ]
    }
   ],
   "source": [
    "import numpy as np\n",
    "\n",
    "T = 1.0\n",
    "N_t = 100\n",
    "t_grid = np.linspace(0, T, N_t)\n",
    "\n",
    "N_x = 100\n",
    "x_grid = np.linspace(-1, 1, N_x)\n",
    "\n",
    "N_modes = 50\n",
    "alpha = np.arange(1, N_modes+1)  # simple increasing\n",
    "\n",
    "# Mock bounded functions\n",
    "def Psi(x, t, i):\n",
    "    return np.sin(x * i) * np.cos(t)  # bounded\n",
    "\n",
    "def W_tilde(i, j):\n",
    "    return np.exp(-(i-j)**2)  # Gaussian, bounded\n",
    "\n",
    "def theta(i, j):\n",
    "    return (i+j)*np.pi/4  # arbitrary phase\n",
    "\n",
    "def h_t_dot(x, t, i):\n",
    "    # some bounded derivative mock\n",
    "    return 0.1*np.cos(x*i)*np.sin(t)\n",
    "\n",
    "S_approx = 0.0\n",
    "for ti in t_grid:\n",
    "    for x in x_grid:\n",
    "        accum = 0.0\n",
    "        for i in range(N_modes):\n",
    "            # Approximate W_ij cos(theta_ij) by just W_ii for simplicity\n",
    "            val = Psi(x, ti, i+1) + W_tilde(i+1, i+1)*np.cos(theta(i+1, i+1))\n",
    "            val -= 0.5*0.1*(h_t_dot(x, ti, i+1)**2)  # tau = 0.1 for example\n",
    "            accum += np.exp(-alpha[i]*val)\n",
    "        S_approx += accum\n",
    "S_approx /= (N_t*N_x)  # crude approximation of integral average\n",
    "\n",
    "print(\"Approximate S:\", S_approx)\n"
   ]
  }
 ],
 "metadata": {
  "kernelspec": {
   "display_name": ".venv",
   "language": "python",
   "name": "python3"
  },
  "language_info": {
   "codemirror_mode": {
    "name": "ipython",
    "version": 3
   },
   "file_extension": ".py",
   "mimetype": "text/x-python",
   "name": "python",
   "nbconvert_exporter": "python",
   "pygments_lexer": "ipython3",
   "version": "3.12.7"
  }
 },
 "nbformat": 4,
 "nbformat_minor": 2
}
